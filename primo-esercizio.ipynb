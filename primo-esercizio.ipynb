{
 "cells": [
  {
   "cell_type": "markdown",
   "id": "ec550cdb",
   "metadata": {},
   "source": [
    "# Benvenuti\n",
    "Ricordarsi che è possibile utilizzare un linguaggio di markdown all'interno del notebook:\n",
    "\n",
    "https://docs.github.com/en/get-started/writing-on-github/getting-started-with-writing-and-formatting-on-github/basic-writing-and-formatting-syntax\n",
    "\n",
    "Per una guida ottimale sull'utilizzo di Jupiter Notebook seguire l'indirizzo:\n",
    "\n",
    "https://statics.teams.cdn.office.net/evergreen-assets/safelinks/1/atp-safelinks.html\n",
    "\n",
    "\n"
   ]
  },
  {
   "cell_type": "markdown",
   "id": "c11e6138",
   "metadata": {},
   "source": [
    "Print è una funzione di build in già installato in python"
   ]
  },
  {
   "cell_type": "code",
   "execution_count": 5,
   "id": "685ef468",
   "metadata": {},
   "outputs": [
    {
     "name": "stdout",
     "output_type": "stream",
     "text": [
      "Hello world!\n"
     ]
    }
   ],
   "source": [
    "print('Hello world!')"
   ]
  },
  {
   "cell_type": "markdown",
   "id": "4cf948d5",
   "metadata": {},
   "source": [
    "Per un insieme $S = {s_1, s_2, \\dots, s_n} $ di numeri interi, è possibile calcolare il valore medio come $ (s_1 + s_2 + \\dots + s_n)/n $.\n",
    "\n",
    "$ \\dfrac {(s_1 + s_2 + \\dots + s_n)}{n} $ \n",
    "\n",
    "$ \\dfrac {\\sum_{i = 1} ^{n} s_i}{n} $"
   ]
  },
  {
   "cell_type": "markdown",
   "id": "27994257",
   "metadata": {},
   "source": [
    "E' possibile importare delle librerie per il calcolo matematico, per esempio math:"
   ]
  },
  {
   "cell_type": "code",
   "execution_count": 8,
   "id": "d2d1c3b1",
   "metadata": {},
   "outputs": [],
   "source": [
    "import math"
   ]
  },
  {
   "cell_type": "code",
   "execution_count": 10,
   "id": "4af9aab0",
   "metadata": {},
   "outputs": [
    {
     "data": {
      "text/plain": [
       "0.11942892601833845"
      ]
     },
     "execution_count": 10,
     "metadata": {},
     "output_type": "execute_result"
    }
   ],
   "source": [
    "math.atan(0.12)"
   ]
  },
  {
   "cell_type": "markdown",
   "id": "38cc9965",
   "metadata": {},
   "source": [
    "## Tipi di dati in pyton\n",
    "\n",
    "Ci sono ripi di dato primitivi:\n",
    "- int\n",
    "- str\n",
    "- ecc...\n",
    "\n",
    "Per conoscere il tipo di dato di una variabile esiste la funzione `type`"
   ]
  },
  {
   "cell_type": "code",
   "execution_count": 12,
   "id": "9985b97d",
   "metadata": {},
   "outputs": [
    {
     "name": "stdout",
     "output_type": "stream",
     "text": [
      "1 Ciao!\n",
      "<class 'int'> <class 'str'>\n"
     ]
    }
   ],
   "source": [
    "a = 1\n",
    "b = 'Ciao!'\n",
    "\n",
    "print(a, b)\n",
    "print(type(a), type(b))"
   ]
  },
  {
   "cell_type": "markdown",
   "id": "d5a766c5",
   "metadata": {},
   "source": [
    "Nei linguaggi di programmazione ad alto livello, gli oggetti sono delle strutture dati che conservano un insieme di informazioni. Alcuni tipi di dati sono primitivi, altri possono non essere atomici, ma ulteriormente scompattabili. \n",
    "Gli oggetti, oltre a custodire dati, possono esporre delle funzioni."
   ]
  },
  {
   "cell_type": "code",
   "execution_count": 14,
   "id": "6da31579",
   "metadata": {},
   "outputs": [],
   "source": [
    "c = '1'"
   ]
  },
  {
   "cell_type": "code",
   "execution_count": null,
   "id": "5fb69a9c",
   "metadata": {},
   "outputs": [],
   "source": []
  }
 ],
 "metadata": {
  "kernelspec": {
   "display_name": "Python 3 (ipykernel)",
   "language": "python",
   "name": "python3"
  },
  "language_info": {
   "codemirror_mode": {
    "name": "ipython",
    "version": 3
   },
   "file_extension": ".py",
   "mimetype": "text/x-python",
   "name": "python",
   "nbconvert_exporter": "python",
   "pygments_lexer": "ipython3",
   "version": "3.10.7"
  }
 },
 "nbformat": 4,
 "nbformat_minor": 5
}
