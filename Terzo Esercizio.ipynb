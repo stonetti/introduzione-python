{
 "cells": [
  {
   "cell_type": "markdown",
   "id": "0f2deef7",
   "metadata": {},
   "source": [
    "## String\n",
    "\n",
    "Le stringhe sono sequenze di caratteri. Sono un tipo di dato che contiene funzioni per poterle utilizzare comodamente."
   ]
  },
  {
   "cell_type": "code",
   "execution_count": 3,
   "id": "0c8ba4f1",
   "metadata": {},
   "outputs": [
    {
     "name": "stdout",
     "output_type": "stream",
     "text": [
      "012 56789 12345678\n"
     ]
    }
   ],
   "source": [
    "s = '0123456789'\n",
    "print(s[:3], s[5:], s[1:-1])"
   ]
  },
  {
   "cell_type": "markdown",
   "id": "d12ba754",
   "metadata": {},
   "source": [
    "Il successivo comando permette di prendee un carattere ogni due passi, nel primo caso partendo dall'indice zero, nel secondo caso partendo dall'indice 1."
   ]
  },
  {
   "cell_type": "code",
   "execution_count": 5,
   "id": "2268e717",
   "metadata": {},
   "outputs": [
    {
     "name": "stdout",
     "output_type": "stream",
     "text": [
      "02468 13579\n"
     ]
    }
   ],
   "source": [
    "print(s[::2], s[1::2])"
   ]
  },
  {
   "cell_type": "markdown",
   "id": "1ee079dd",
   "metadata": {},
   "source": [
    " Le liste sono oggetti mutabili: intervenendo sugli elementi della lista, questi possono essere cambiati"
   ]
  },
  {
   "cell_type": "code",
   "execution_count": 6,
   "id": "045f16d0",
   "metadata": {},
   "outputs": [
    {
     "name": "stdout",
     "output_type": "stream",
     "text": [
      "[0, 1, 'ciao', 3, 4, 5, 6, 7, 8, 9]\n"
     ]
    }
   ],
   "source": [
    "l = [0,1,2,3,4,5,6,7,8,9]\n",
    "l[2] = 'ciao'\n",
    "print(l)"
   ]
  },
  {
   "cell_type": "markdown",
   "id": "a5556eb8",
   "metadata": {},
   "source": [
    "Le stringhe sono invece immutabili!"
   ]
  },
  {
   "cell_type": "code",
   "execution_count": 8,
   "id": "1b0c73a0",
   "metadata": {},
   "outputs": [
    {
     "name": "stdout",
     "output_type": "stream",
     "text": [
      "Non si può fare!\n"
     ]
    }
   ],
   "source": [
    "try:\n",
    "    s[2] = 'x'\n",
    "except: \n",
    "    print('Non si può fare!')\n",
    "    "
   ]
  },
  {
   "cell_type": "code",
   "execution_count": 11,
   "id": "d757fb0f",
   "metadata": {},
   "outputs": [
    {
     "name": "stdout",
     "output_type": "stream",
     "text": [
      "01x3456789\n"
     ]
    }
   ],
   "source": [
    "s = s[:2] + 'x' + s[3:]\n",
    "print(s)"
   ]
  },
  {
   "cell_type": "markdown",
   "id": "28dd23ac",
   "metadata": {},
   "source": [
    "## Caratteri di escape"
   ]
  },
  {
   "cell_type": "code",
   "execution_count": 14,
   "id": "dc049c51",
   "metadata": {},
   "outputs": [
    {
     "name": "stdout",
     "output_type": "stream",
     "text": [
      "1\n",
      "2\n",
      "3\n",
      "Auguri!\n"
     ]
    }
   ],
   "source": [
    "s = '1\\n2\\n3\\nAuguri!'\n",
    "print(s)"
   ]
  },
  {
   "cell_type": "code",
   "execution_count": 16,
   "id": "125761cb",
   "metadata": {},
   "outputs": [
    {
     "name": "stdout",
     "output_type": "stream",
     "text": [
      "Nome\tCognome\n",
      "Maria\tVerdi\n",
      "Mario\tRossi\n"
     ]
    }
   ],
   "source": [
    "s = 'Nome\\tCognome\\nMaria\\tVerdi\\nMario\\tRossi'\n",
    "print(s)"
   ]
  },
  {
   "cell_type": "code",
   "execution_count": 21,
   "id": "5afef9ba",
   "metadata": {},
   "outputs": [
    {
     "name": "stdout",
     "output_type": "stream",
     "text": [
      "\n",
      "In questa stringa posso anche usare gli 'apici singoli'!\n",
      "\n"
     ]
    }
   ],
   "source": [
    "s = \"\"\"\n",
    "In questa stringa posso anche usare gli 'apici singoli'!\n",
    "\"\"\"\n",
    "print(s)"
   ]
  },
  {
   "cell_type": "markdown",
   "id": "2996ffaf",
   "metadata": {},
   "source": [
    "Si può usare il carattere `+` per concatenare le stringhe. Anche l'operatore `*` può essere utilizzato per manipolare le stringhe:"
   ]
  },
  {
   "cell_type": "code",
   "execution_count": 23,
   "id": "3e91167c",
   "metadata": {},
   "outputs": [
    {
     "name": "stdout",
     "output_type": "stream",
     "text": [
      "\n",
      "In questa stringa posso anche usare gli 'apici singoli'!\n",
      "\n",
      "In questa stringa posso anche usare gli 'apici singoli'!\n",
      "\n",
      "In questa stringa posso anche usare gli 'apici singoli'!\n",
      "\n",
      "In questa stringa posso anche usare gli 'apici singoli'!\n",
      "\n",
      "In questa stringa posso anche usare gli 'apici singoli'!\n",
      "\n"
     ]
    }
   ],
   "source": [
    "print (s*5)"
   ]
  },
  {
   "cell_type": "markdown",
   "id": "485ecd30",
   "metadata": {},
   "source": [
    "Si può creare una stringa a partire dagli elementi di una lista:"
   ]
  },
  {
   "cell_type": "code",
   "execution_count": 24,
   "id": "488362f9",
   "metadata": {},
   "outputs": [
    {
     "name": "stdout",
     "output_type": "stream",
     "text": [
      "0-1-ciao-3-4-5-6-7-8-9\n"
     ]
    }
   ],
   "source": [
    "\n",
    "st = '-'.join(str(v) for v in l)\n",
    "print(st)"
   ]
  },
  {
   "cell_type": "markdown",
   "id": "932e67b3",
   "metadata": {},
   "source": [
    "`join` è un metodo delle stringhe che prende in ingresso una lista di stringhe e restituisce in output tutti gli elementi della stringa separati da quella utilizzata per chiamare il metodo (nell'esempio prima il carattere `-`)."
   ]
  },
  {
   "cell_type": "markdown",
   "id": "14d18fd3",
   "metadata": {},
   "source": [
    "Per una vista totale dei metodi che possono essere utilizzati con le stringhe consultare il seguente link:\n",
    "\n",
    "https://www.w3schools.com/python/python_ref_string.asp"
   ]
  },
  {
   "cell_type": "markdown",
   "id": "33ceef32",
   "metadata": {},
   "source": [
    "## Tuple\n",
    "Le tuple sono insiemei di oggetti di diverso tipo, immutabili."
   ]
  },
  {
   "cell_type": "code",
   "execution_count": 25,
   "id": "4486f215",
   "metadata": {},
   "outputs": [
    {
     "name": "stdout",
     "output_type": "stream",
     "text": [
      "tutti\n"
     ]
    }
   ],
   "source": [
    "t = ('ciao', 'a', 'tutti','i', 'presenti')\n",
    "print(t[2])"
   ]
  },
  {
   "cell_type": "markdown",
   "id": "c947f8a5",
   "metadata": {},
   "source": [
    "Per accedere all'elemento di una tupla è possibile usare l'indice (come per le liste e le stringhe)"
   ]
  },
  {
   "cell_type": "code",
   "execution_count": 26,
   "id": "09b4a6e3",
   "metadata": {},
   "outputs": [
    {
     "name": "stdout",
     "output_type": "stream",
     "text": [
      "('ciao', 'a', 'tutti', 'i', 'presenti') ('ciao', 'a', 'tutti') presenti\n"
     ]
    }
   ],
   "source": [
    "print(t, t[:3], t[-1])"
   ]
  },
  {
   "cell_type": "code",
   "execution_count": 27,
   "id": "8df2c317",
   "metadata": {},
   "outputs": [
    {
     "name": "stdout",
     "output_type": "stream",
     "text": [
      "Gli elementi di una tupla sono immutabili!\n"
     ]
    }
   ],
   "source": [
    "try:\n",
    "    t[1] = 'Buondì.'\n",
    "except:\n",
    "    print('Gli elementi di una tupla sono immutabili!')"
   ]
  },
  {
   "cell_type": "markdown",
   "id": "ff9e6ee9",
   "metadata": {},
   "source": [
    "L'operatore `in` restituisce un booleano:"
   ]
  },
  {
   "cell_type": "code",
   "execution_count": 28,
   "id": "fe8e16cd",
   "metadata": {},
   "outputs": [
    {
     "name": "stdout",
     "output_type": "stream",
     "text": [
      "True False\n"
     ]
    }
   ],
   "source": [
    "print('ciao' in t, 'ecco' in t)"
   ]
  },
  {
   "cell_type": "code",
   "execution_count": 30,
   "id": "c3f4cfb8",
   "metadata": {},
   "outputs": [
    {
     "name": "stdout",
     "output_type": "stream",
     "text": [
      "['ciao', 'a', 'tutti', 'i', 'presenti']\n"
     ]
    }
   ],
   "source": [
    "l = [n for n in t]\n",
    "print(l)"
   ]
  },
  {
   "cell_type": "code",
   "execution_count": 31,
   "id": "32f4accf",
   "metadata": {},
   "outputs": [
    {
     "name": "stdout",
     "output_type": "stream",
     "text": [
      "True False\n"
     ]
    }
   ],
   "source": [
    "print('ciao' in l, 'ecco' in l)"
   ]
  },
  {
   "cell_type": "code",
   "execution_count": 32,
   "id": "7ef005c2",
   "metadata": {},
   "outputs": [
    {
     "name": "stdout",
     "output_type": "stream",
     "text": [
      "True False\n"
     ]
    }
   ],
   "source": [
    "s = ''.join(n for n in t)\n",
    "print('ciao' in s, 'ecco' in s)"
   ]
  },
  {
   "cell_type": "markdown",
   "id": "ae9613aa",
   "metadata": {},
   "source": [
    "Vediamo ora cosa succede se mettiamo solamente un valore all'interno di una tupla:"
   ]
  },
  {
   "cell_type": "code",
   "execution_count": 34,
   "id": "d0c2b542",
   "metadata": {},
   "outputs": [
    {
     "name": "stdout",
     "output_type": "stream",
     "text": [
      "1\n"
     ]
    }
   ],
   "source": [
    "tupla_solitaria=(1)\n",
    "print(tupla_solitaria)"
   ]
  },
  {
   "cell_type": "markdown",
   "id": "f946ee7c",
   "metadata": {},
   "source": [
    "Per printare effettivamente la tupla e non solo l'elemento in essa contenuta bisogna fare:"
   ]
  },
  {
   "cell_type": "code",
   "execution_count": 35,
   "id": "d974cc09",
   "metadata": {},
   "outputs": [
    {
     "name": "stdout",
     "output_type": "stream",
     "text": [
      "(1,)\n"
     ]
    }
   ],
   "source": [
    "tupla_solitaria = (1,)\n",
    "print(tupla_solitaria)"
   ]
  },
  {
   "cell_type": "markdown",
   "id": "c06b03b8",
   "metadata": {},
   "source": [
    "Per modificare gli elementi di una tupla senza romperne la sintassi si può trasformarla in una lista, modificare l'elemento della lista e riconvertire in tupla."
   ]
  },
  {
   "cell_type": "code",
   "execution_count": 38,
   "id": "57c5ba5a",
   "metadata": {},
   "outputs": [
    {
     "name": "stdout",
     "output_type": "stream",
     "text": [
      "(0, 1, 'x', 3, 4, 5)\n"
     ]
    }
   ],
   "source": [
    "tupla = (0,1,2,3,4,5)\n",
    "l = list(tupla)\n",
    "l [2] = 'x'\n",
    "tupla = tuple(l)\n",
    "print (tupla)"
   ]
  },
  {
   "cell_type": "markdown",
   "id": "8826eac3",
   "metadata": {},
   "source": [
    "## Gli insiemi (set)\n",
    "Come le tuple, sono strutture che permettono di conservare una collezione di elementi, sono immutabili e hanno degli operatori che permettono di manipolarli. Il set non conserva i duplicati degli elementi, esattamente come gli insiemi matematici."
   ]
  },
  {
   "cell_type": "code",
   "execution_count": 42,
   "id": "b87ca51d",
   "metadata": {},
   "outputs": [
    {
     "name": "stdout",
     "output_type": "stream",
     "text": [
      "L'insieme non permette di usare gli indici perchè gli insiemi non hanno indici.\n"
     ]
    }
   ],
   "source": [
    "try:\n",
    "    insieme[0]\n",
    "except:\n",
    "    print('L\\'insieme non permette di usare gli indici perchè gli insiemi non hanno indici.')"
   ]
  },
  {
   "cell_type": "markdown",
   "id": "3c877dad",
   "metadata": {},
   "source": []
  }
 ],
 "metadata": {
  "kernelspec": {
   "display_name": "Python 3 (ipykernel)",
   "language": "python",
   "name": "python3"
  },
  "language_info": {
   "codemirror_mode": {
    "name": "ipython",
    "version": 3
   },
   "file_extension": ".py",
   "mimetype": "text/x-python",
   "name": "python",
   "nbconvert_exporter": "python",
   "pygments_lexer": "ipython3",
   "version": "3.10.7"
  }
 },
 "nbformat": 4,
 "nbformat_minor": 5
}
