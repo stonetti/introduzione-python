{
 "cells": [
  {
   "cell_type": "markdown",
   "id": "23c78fb6",
   "metadata": {},
   "source": [
    "# I Dizionari\n",
    "Sono strutture dati in grado di associare un valore ad una key. Le keys appartengono ad un set, i valori appartengono ad una list.\n",
    "Come esempio creiamoun modello in cui associamo ad ogni città il suo stato:"
   ]
  },
  {
   "cell_type": "code",
   "execution_count": 4,
   "id": "d7905b1b",
   "metadata": {},
   "outputs": [
    {
     "name": "stdout",
     "output_type": "stream",
     "text": [
      "{'Roma': 'Italia', 'Napoli': 'Italia', 'Barcellona': 'Spagna'}\n"
     ]
    }
   ],
   "source": [
    "elenco_citta = dict()\n",
    "elenco_citta['Roma'] = 'Italia'\n",
    "elenco_citta['Napoli'] = 'Italia'\n",
    "elenco_citta['Barcellona']= 'Spagna'\n",
    "print(elenco_citta)"
   ]
  },
  {
   "cell_type": "markdown",
   "id": "fcffe66b",
   "metadata": {},
   "source": [
    "I dizionari permettono l'accesso ai set di tutte le chiavi"
   ]
  },
  {
   "cell_type": "code",
   "execution_count": 6,
   "id": "9b5f8521",
   "metadata": {},
   "outputs": [
    {
     "data": {
      "text/plain": [
       "dict_keys(['Roma', 'Napoli', 'Barcellona'])"
      ]
     },
     "execution_count": 6,
     "metadata": {},
     "output_type": "execute_result"
    }
   ],
   "source": [
    "elenco_citta.keys()"
   ]
  },
  {
   "cell_type": "code",
   "execution_count": 11,
   "id": "7a31df6a",
   "metadata": {},
   "outputs": [
    {
     "name": "stdout",
     "output_type": "stream",
     "text": [
      "Italia\n"
     ]
    }
   ],
   "source": [
    "lista_citta = ['Roma', 'Napoli', 'Barcellona']\n",
    "print(elenco_citta[lista_citta[0]])"
   ]
  },
  {
   "cell_type": "code",
   "execution_count": 12,
   "id": "8089322e",
   "metadata": {},
   "outputs": [
    {
     "name": "stdout",
     "output_type": "stream",
     "text": [
      "['Italia', 'Italia', 'Spagna']\n"
     ]
    }
   ],
   "source": [
    "print([elenco_citta[citta] for citta in lista_citta])"
   ]
  },
  {
   "cell_type": "code",
   "execution_count": 14,
   "id": "73f95173",
   "metadata": {},
   "outputs": [
    {
     "name": "stdout",
     "output_type": "stream",
     "text": [
      "dict_values(['Italia', 'Italia', 'Spagna'])\n"
     ]
    }
   ],
   "source": [
    "print(elenco_citta.values())"
   ]
  },
  {
   "cell_type": "code",
   "execution_count": 37,
   "id": "e793b39b",
   "metadata": {},
   "outputs": [
    {
     "name": "stdout",
     "output_type": "stream",
     "text": [
      "['Spagna']\n"
     ]
    }
   ],
   "source": [
    "lista_citta = [elenco_citta[citta] for citta in elenco_citta.keys() if 'r' in citta]\n",
    "print(lista_citta)"
   ]
  },
  {
   "cell_type": "code",
   "execution_count": null,
   "id": "020f8d97",
   "metadata": {},
   "outputs": [],
   "source": []
  }
 ],
 "metadata": {
  "kernelspec": {
   "display_name": "Python 3 (ipykernel)",
   "language": "python",
   "name": "python3"
  },
  "language_info": {
   "codemirror_mode": {
    "name": "ipython",
    "version": 3
   },
   "file_extension": ".py",
   "mimetype": "text/x-python",
   "name": "python",
   "nbconvert_exporter": "python",
   "pygments_lexer": "ipython3",
   "version": "3.10.7"
  }
 },
 "nbformat": 4,
 "nbformat_minor": 5
}
