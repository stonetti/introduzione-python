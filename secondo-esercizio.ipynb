{
 "cells": [
  {
   "cell_type": "markdown",
   "id": "a6d21a5a",
   "metadata": {},
   "source": [
    "## Strutture dati\n",
    "In molti casi è necessario conservare in una sola variabile un insieme di elementi: in questo caso si possono usare strutture di dati come le liste."
   ]
  },
  {
   "cell_type": "code",
   "execution_count": 1,
   "id": "94554fb3",
   "metadata": {},
   "outputs": [],
   "source": [
    "elenco = [1,3,5,7,9,11, 'ciao']"
   ]
  },
  {
   "cell_type": "markdown",
   "id": "7b7581c2",
   "metadata": {},
   "source": [
    "Le liste possono contenere oggetti appartenenti a diversi tipi di dato, come interi e stringhe, o addirittura altre liste. Per accedere ad uno degli elementi della lista, possiamo usare il suo indice:"
   ]
  },
  {
   "cell_type": "code",
   "execution_count": 2,
   "id": "ac22a5c4",
   "metadata": {},
   "outputs": [
    {
     "name": "stdout",
     "output_type": "stream",
     "text": [
      "3\n"
     ]
    }
   ],
   "source": [
    "print(elenco[1])"
   ]
  },
  {
   "cell_type": "markdown",
   "id": "d5dec3b5",
   "metadata": {},
   "source": [
    "L'indice parte sempre da zero. Se viene inserito un indice più grande del numero degli elementi meno uno, si ottiene un out of bound."
   ]
  },
  {
   "cell_type": "code",
   "execution_count": 7,
   "id": "11ad805e",
   "metadata": {},
   "outputs": [
    {
     "name": "stdout",
     "output_type": "stream",
     "text": [
      "Index out of bounds!\n"
     ]
    }
   ],
   "source": [
    "try:\n",
    "    print(elenco[20])\n",
    "except:\n",
    "    print('Index out of bounds!')"
   ]
  },
  {
   "cell_type": "code",
   "execution_count": 9,
   "id": "850cd4e5",
   "metadata": {},
   "outputs": [
    {
     "name": "stdout",
     "output_type": "stream",
     "text": [
      "ciao\n"
     ]
    }
   ],
   "source": [
    "print(elenco[-1])"
   ]
  },
  {
   "cell_type": "markdown",
   "id": "30744e2c",
   "metadata": {},
   "source": [
    "E' possibile ottenere sottoliste utilizzando l'operatore `:` all'interno delle quadre (primo indice incluso, ultimo indice escluso):"
   ]
  },
  {
   "cell_type": "code",
   "execution_count": 13,
   "id": "37000472",
   "metadata": {},
   "outputs": [
    {
     "name": "stdout",
     "output_type": "stream",
     "text": [
      "[1, 3, 5]\n",
      "[1, 3, 5]\n",
      "[7, 9, 11, 'ciao']\n",
      "[1, 3, 5, 7, 11, 'ciao']\n"
     ]
    }
   ],
   "source": [
    "print(elenco[0:3])\n",
    "print(elenco[:3])\n",
    "print(elenco[3:])\n",
    "n = 4\n",
    "print(elenco[0:n] + elenco [n+1:])"
   ]
  },
  {
   "cell_type": "markdown",
   "id": "866c8803",
   "metadata": {},
   "source": [
    "Quando viene manipolata una lista, se ne crea una indipendente da quella originale. Per copiare velocemente una lista si potrà quindi fare:\n"
   ]
  },
  {
   "cell_type": "code",
   "execution_count": 14,
   "id": "1b1d55c5",
   "metadata": {},
   "outputs": [],
   "source": [
    "copia_elenco = elenco[:]"
   ]
  },
  {
   "cell_type": "markdown",
   "id": "bc643780",
   "metadata": {},
   "source": [
    "Funzioni di python per le liste:"
   ]
  },
  {
   "cell_type": "code",
   "execution_count": 16,
   "id": "a8ba4c4c",
   "metadata": {},
   "outputs": [
    {
     "name": "stdout",
     "output_type": "stream",
     "text": [
      "[1, 3, 5, 'python', 'python', 7, 9, 11, 'ciao']\n",
      "[1, 3, 5, 'python', 'python', 7, 9, 11, 'ciao', 1, 2, 3]\n",
      "[1, 3, 5, 'python', 'python', 7, 9, 11, 1, 2, 3]\n",
      "[1, 3, 5, 'python', 'python', 7, 9, 11, 1, 2]\n",
      "8\n",
      "None\n"
     ]
    }
   ],
   "source": [
    "elenco.insert(3, 'python')\n",
    "print(elenco)\n",
    "elenco.extend([1,2,3])\n",
    "print(elenco)\n",
    "elenco.remove('ciao')\n",
    "print(elenco)\n",
    "elenco.pop()\n",
    "print(elenco)\n",
    "print(elenco.index(1,5))\n",
    "print(elenco.reverse())"
   ]
  },
  {
   "cell_type": "code",
   "execution_count": 19,
   "id": "dc3d309a",
   "metadata": {},
   "outputs": [
    {
     "name": "stdout",
     "output_type": "stream",
     "text": [
      "[0, 1, 2, 3, 4, 5, 6, 7, 8, 9]\n"
     ]
    }
   ],
   "source": [
    "print(list(range(10)))"
   ]
  },
  {
   "cell_type": "code",
   "execution_count": 20,
   "id": "3d17b7e2",
   "metadata": {},
   "outputs": [
    {
     "name": "stdout",
     "output_type": "stream",
     "text": [
      "[0, 1, 2, 3, 4, 5, 6, 7, 8, 9]\n"
     ]
    }
   ],
   "source": [
    "print(list(range(len(elenco))))"
   ]
  },
  {
   "cell_type": "markdown",
   "id": "9184027e",
   "metadata": {},
   "source": [
    "List comprehension: creare liste in modo rapido."
   ]
  },
  {
   "cell_type": "code",
   "execution_count": 23,
   "id": "3ca77e10",
   "metadata": {},
   "outputs": [
    {
     "name": "stdout",
     "output_type": "stream",
     "text": [
      "[1, 4, 9, 16, 25]\n"
     ]
    }
   ],
   "source": [
    "numeri = [1,2,3,4,5]\n",
    "quadrati = [ n**2 for n in numeri]\n",
    "print(quadrati)"
   ]
  },
  {
   "cell_type": "code",
   "execution_count": 25,
   "id": "bf42921c",
   "metadata": {},
   "outputs": [
    {
     "name": "stdout",
     "output_type": "stream",
     "text": [
      "[2, 4]\n"
     ]
    }
   ],
   "source": [
    "filtro_pari = [n for n in numeri if n%2 ==0]\n",
    "print(filtro_pari)"
   ]
  },
  {
   "cell_type": "code",
   "execution_count": 26,
   "id": "e0529173",
   "metadata": {},
   "outputs": [
    {
     "name": "stdout",
     "output_type": "stream",
     "text": [
      "[1, 1, 1, 1, 1]\n",
      "[1, 1, 1, 1, 1]\n",
      "[1, 1, 1, 1, 1]\n",
      "[1, 1, 1, 1, 1]\n",
      "[1, 1, 1, 1, 1]\n"
     ]
    }
   ],
   "source": [
    "matrice = [[1 for x in range(5)] for x in range(5)]\n",
    "for riga in matrice :\n",
    "    print(riga)"
   ]
  },
  {
   "cell_type": "markdown",
   "id": "2d0f1758",
   "metadata": {},
   "source": [
    "TASK 1:"
   ]
  },
  {
   "cell_type": "code",
   "execution_count": 37,
   "id": "46c643b5",
   "metadata": {},
   "outputs": [
    {
     "name": "stdout",
     "output_type": "stream",
     "text": [
      "[1]\n",
      "[1, 1]\n",
      "[1, 1]\n",
      "[1, 1, 1]\n",
      "[1, 1, 1]\n",
      "[1, 1, 1]\n",
      "[1, 1, 1, 1]\n",
      "[1, 1, 1, 1]\n",
      "[1, 1, 1, 1]\n",
      "[1, 1, 1, 1]\n",
      "[1, 1, 1, 1, 1]\n",
      "[1, 1, 1, 1, 1]\n",
      "[1, 1, 1, 1, 1]\n",
      "[1, 1, 1, 1, 1]\n",
      "[1, 1, 1, 1, 1]\n"
     ]
    }
   ],
   "source": [
    "n = len(matrice)\n",
    "for m in range(n+1):\n",
    "    matrice_dim = [[1 for x in range(m)] for x in range(m)]\n",
    "    for riga in matrice_dim:\n",
    "        print(riga)"
   ]
  },
  {
   "cell_type": "markdown",
   "id": "9da926e3",
   "metadata": {},
   "source": [
    "TASK 2"
   ]
  },
  {
   "cell_type": "code",
   "execution_count": 50,
   "id": "4ba71491",
   "metadata": {},
   "outputs": [
    {
     "name": "stdout",
     "output_type": "stream",
     "text": [
      "[1, 0, 0, 0, 0]\n",
      "[0, 1, 0, 0, 0]\n",
      "[0, 0, 1, 0, 0]\n",
      "[0, 0, 0, 1, 0]\n",
      "[0, 0, 0, 0, 1]\n"
     ]
    }
   ],
   "source": [
    "matrice_identita = [[1 if ogg == riga else 0 for ogg in range(n)]for riga in range(n)]\n",
    "for riga in matrice_identita:\n",
    "    print(riga)"
   ]
  },
  {
   "cell_type": "code",
   "execution_count": null,
   "id": "b2d88bc6",
   "metadata": {},
   "outputs": [],
   "source": []
  }
 ],
 "metadata": {
  "kernelspec": {
   "display_name": "Python 3 (ipykernel)",
   "language": "python",
   "name": "python3"
  },
  "language_info": {
   "codemirror_mode": {
    "name": "ipython",
    "version": 3
   },
   "file_extension": ".py",
   "mimetype": "text/x-python",
   "name": "python",
   "nbconvert_exporter": "python",
   "pygments_lexer": "ipython3",
   "version": "3.10.7"
  }
 },
 "nbformat": 4,
 "nbformat_minor": 5
}
